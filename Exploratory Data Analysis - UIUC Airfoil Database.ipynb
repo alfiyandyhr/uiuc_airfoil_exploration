{
 "cells": [
  {
   "cell_type": "markdown",
   "id": "214cf064",
   "metadata": {},
   "source": [
    "# Exploratory Data Analysis - UIUC Airfoil Database\n",
    "\n",
    "This notebook tries to analysize and explore all the airfoils from the UIUC database:\n",
    "https://m-selig.ae.illinois.edu/ads/coord_database.html"
   ]
  },
  {
   "cell_type": "code",
   "execution_count": 1,
   "id": "eb3f8a41",
   "metadata": {},
   "outputs": [],
   "source": [
    "import os\n",
    "import subprocess\n",
    "import time\n",
    "import numpy as np\n",
    "import matplotlib.pyplot as plt\n",
    "import pandas as pd\n",
    "import plotly.express as px\n",
    "import plotly.graph_objects as go\n",
    "from bs4 import BeautifulSoup\n",
    "import re\n",
    "try:\n",
    "    import urllib.request as urllib2\n",
    "except:\n",
    "    import urllib2"
   ]
  },
  {
   "cell_type": "markdown",
   "id": "9dd80aca",
   "metadata": {},
   "source": [
    "### Download all UIUC airfoils\n",
    "\n",
    "We do web scrapping and extract all the airfoils from the database using `BeautifulSoup` and save them into `coordinate_data` folder."
   ]
  },
  {
   "cell_type": "code",
   "execution_count": 3,
   "id": "dcc8d62f",
   "metadata": {},
   "outputs": [],
   "source": [
    "# Set the `download = True` to download\n",
    "download = False\n",
    "\n",
    "if download:\n",
    "    # Base filepath\n",
    "    base_filept = 'https://m-selig.ae.illinois.edu/ads/'\n",
    "\n",
    "    # Open the webpage\n",
    "    html_page = urllib2.urlopen('https://m-selig.ae.illinois.edu/ads/coord_database.html')\n",
    "    soup = BeautifulSoup(html_page, 'lxml')\n",
    "\n",
    "    # Loop over airfoil .dat files and save each\n",
    "    ind = 1\n",
    "    airfoil_names = []\n",
    "    for link in soup.find_all('a', attrs={'href': re.compile('\\.dat', re.IGNORECASE)}):\n",
    "        airfoil_names.append(link.get('href').rsplit('/',1)[-1])\n",
    "        urllib2.urlretrieve(base_filept+link.get('href'), 'coordinate_data/'+link.get('href').rsplit('/',1)[-1])\n",
    "        print(f'Saving airfoil {ind} ...')\n",
    "        ind = ind + 1\n",
    "\n",
    "    with open('names_list/airfoil_names.txt', 'w') as f:\n",
    "        for ind in range(len(airfoil_names)):\n",
    "            f.write(f'{airfoil_names[ind]}\\n')"
   ]
  },
  {
   "cell_type": "markdown",
   "id": "f097be8b",
   "metadata": {},
   "source": [
    "### Preprocess the airfoils\n",
    "\n",
    "This step is necessary so that the coordinates can be imported into XFOIl. The convention is to sort the points via **TE-upper-LE-lower-TE**"
   ]
  },
  {
   "cell_type": "code",
   "execution_count": 4,
   "id": "bd7d159f",
   "metadata": {},
   "outputs": [],
   "source": [
    "# Set `preprocess = True` to conduct the procedure\n",
    "preprocess = False\n",
    "\n",
    "if preprocess:\n",
    "    # Read airfoil names\n",
    "    with open('names_list/airfoil_names.txt', 'r') as f:\n",
    "        names_list = f.readlines()\n",
    "\n",
    "    for i in range(len(names_list)):\n",
    "        names_list[i] = names_list[i][:-1]\n",
    "\n",
    "    for ind in range(len(names_list)):\n",
    "        print(f'{ind+1}. Preprocessing {names_list[ind]} ...')\n",
    "\n",
    "    # Loading raw coordinates with various formats\n",
    "    try:\n",
    "        coord = np.genfromtxt(f'coordinate_data/{names_list[ind]}')\n",
    "    except ValueError:\n",
    "        try:\n",
    "            coord = np.genfromtxt(f'coordinate_data/{names_list[ind]}', skip_header=1)\n",
    "        except ValueError:\n",
    "            try:\n",
    "                coord = np.genfromtxt(f'coordinate_data/{names_list[ind]}', skip_header=2)\n",
    "            except ValueError:\n",
    "                try:\n",
    "                    coord = np.genfromtxt(f'coordinate_data/{names_list[ind]}', skip_header=3)\n",
    "                except ValueError:\n",
    "                    coord = np.genfromtxt(f'coordinate_data/{names_list[ind]}', skip_header=3, skip_footer=1)\n",
    "\n",
    "    # Remove nan\n",
    "    if np.isnan(coord[0, 0]):\n",
    "        coord = coord[1:]\n",
    "\n",
    "    # Remove number of points\n",
    "    if coord[0, 0] > 1.0:\n",
    "        coord = coord[1:]\n",
    "\n",
    "    # Make the XFOIL format\n",
    "    if coord[0, 0] < 0.1: # Is the point LE?\n",
    "        for i in range(len(coord)): # Sweeping to find break point\n",
    "            if i != len(coord)-1:\n",
    "                if coord[i, 0] > coord[i+1, 0]:\n",
    "                    coord_n = np.concatenate((coord[:i+1][::-1], coord[i+1:]), axis=0)\n",
    "    else:\n",
    "        coord_n = coord.copy()\n",
    "\n",
    "    # Saving processed coordinates\n",
    "    np.savetxt(f'processed_coordinates/{names_list[ind]}', coord_n)"
   ]
  },
  {
   "cell_type": "markdown",
   "id": "529bcb4c",
   "metadata": {},
   "source": [
    "### Analyze the airfoils (create polar data)\n",
    "\n",
    "Analyze all the airfoils automatically using XFOIL with the following conditions (and leave the rest default): <br>\n",
    "\n",
    "1. `ASeq = [-2, 10, 0.5]` <br>\n",
    "The AoA sweep from -2 to 10 with 0.5 increment.\n",
    "2. `Re = 3.5e6` <br>\n",
    "The Reynold number is 3.5 million.\n",
    "3. `Mach = 0.117` <br>\n",
    "The Mach number is 0.117 or around 40 m/s.\n",
    "4. `n_iter = 100` <br>\n",
    "The number of iteration in XFOIL setting equals to 100."
   ]
  },
  {
   "cell_type": "code",
   "execution_count": 6,
   "id": "59b546ef",
   "metadata": {},
   "outputs": [],
   "source": [
    "# Set `analze == True` to perform the process\n",
    "analyze = False\n",
    "\n",
    "if analyze:\n",
    "    # Read inputs\n",
    "    with open('names_list/airfoil_names.txt', 'r') as f:\n",
    "        names_list = f.readlines()\n",
    "\n",
    "    for i in range(len(names_list)):\n",
    "        names_list[i] = names_list[i][:-1]\n",
    "\n",
    "    t_init = time.time()\n",
    "\n",
    "    for ind in range(len(names_list)):\n",
    "        print(f'Analyzing {names_list[ind]} ...')\n",
    "\n",
    "        airfoil_name = names_list[ind]\n",
    "        alpha_i = -2\n",
    "        alpha_f = 10\n",
    "        alpha_step = 0.5\n",
    "        Re = 3.5e6\n",
    "        Mach = 0.117\n",
    "        n_iter = 100\n",
    "\n",
    "        # XFOIL Input\n",
    "        if os.path.exists(f'polar_data/{names_list[ind]}'):\n",
    "            os.remove(f'polar_data/{names_list[ind]}')\n",
    "\n",
    "        with open('input_file.in', \"w\") as f:\n",
    "            f.write(f'LOAD processed_coordinates/{airfoil_name}\\n')\n",
    "            f.write(f'{airfoil_name}\\n')\n",
    "            f.write('PANE\\n')\n",
    "            f.write('OPER\\n')\n",
    "            f.write(f'Visc {Re}\\n')\n",
    "            f.write(f'Mach {Mach}\\n')\n",
    "            f.write('PACC\\n')\n",
    "            f.write(f'polar_data/{names_list[ind]}\\n\\n')\n",
    "            f.write(f'Iter {n_iter}\\n')\n",
    "            f.write(f'ASeq {alpha_i} {alpha_f} {alpha_step}\\n')\n",
    "            f.write('\\n')\n",
    "            f.write('quit\\n')\n",
    "\n",
    "        subprocess.call('xfoil < input_file.in', shell=True)\n",
    "\n",
    "    t_final = time.time()\n",
    "    np.savetxt('analysis_time.dat', [t_final-t_init])"
   ]
  },
  {
   "cell_type": "markdown",
   "id": "8786499b",
   "metadata": {},
   "source": [
    "### Importing polar data\n",
    "\n",
    "`airfoil_names.txt` contains the names of all the airfoils from the database.<br>\n",
    "`problematic_airfoil.txt` contains the names of all the airfoils that have problems with XFOIL.<br>\n",
    "`not_converged.txt` contains the names of all the airfoils that XFOIL does not converge on.<br>"
   ]
  },
  {
   "cell_type": "code",
   "execution_count": 7,
   "id": "c6beb76a",
   "metadata": {},
   "outputs": [
    {
     "name": "stdout",
     "output_type": "stream",
     "text": [
      "Converged airfoils: 1360\n",
      "Not-converged airfoils: 198\n",
      "Problematic airfoils: 34\n",
      "Total airfoils: 1592\n"
     ]
    }
   ],
   "source": [
    "# Read\n",
    "with open('names_list/airfoil_names.txt', 'r') as f:\n",
    "    names_list = f.readlines()\n",
    "with open('names_list/problematic_airfoil.txt', 'r') as f:\n",
    "    problematic_list = f.readlines()\n",
    "with open('names_list/not_converged.txt', 'r') as f:\n",
    "    empty_list = f.readlines()\n",
    "\n",
    "for i in range(len(names_list)):\n",
    "    names_list[i] = names_list[i][:-1]\n",
    "\n",
    "for i in range(len(problematic_list)):\n",
    "    problematic_list[i] = problematic_list[i][:-1]\n",
    "    \n",
    "for i in range(len(empty_list)):\n",
    "    empty_list[i] = empty_list[i][:-1]\n",
    "\n",
    "# List of airfoils with successful analysis\n",
    "done_list = list(set(names_list) - set(problematic_list) - set(empty_list))\n",
    "\n",
    "# Importing polar data and append it into a list\n",
    "polar_data = []\n",
    "for ind in range(len(done_list)):\n",
    "    polar_data.append(np.genfromtxt(f'polar_data/{done_list[ind]}', skip_header=12))\n",
    "\n",
    "print(f'Converged airfoils: {len(done_list)}')\n",
    "print(f'Not-converged airfoils: {len(empty_list)}')\n",
    "print(f'Problematic airfoils: {len(problematic_list)}')\n",
    "print(f'Total airfoils: {len(done_list) + len(empty_list) + len(problematic_list)}')"
   ]
  },
  {
   "cell_type": "markdown",
   "id": "1c138722",
   "metadata": {},
   "source": [
    "### Create a summary for `AoA = [-2, 10, 0.5]` in csv files and a single csv file\n",
    "\n",
    "We create separate summaries for each AoA."
   ]
  },
  {
   "cell_type": "code",
   "execution_count": 23,
   "id": "8c735526",
   "metadata": {},
   "outputs": [],
   "source": [
    "AoA_list = np.arange(-2.0, 10.5, 0.5)\n",
    "\n",
    "for AoA in AoA_list:\n",
    "    summary_np = np.zeros((len(done_list), 7))\n",
    "\n",
    "    for ind in range(len(done_list)):\n",
    "        try: # Find data at AoA == AoA_list\n",
    "            idx = np.where(polar_data[ind][:,0]==AoA)[0][0]\n",
    "            summary_np[ind] = polar_data[ind][idx]\n",
    "        except IndexError: # airfoils that don't have the data at AoA == AoA_list\n",
    "            summary_np[ind] = [AoA, np.nan, np.nan, np.nan, np.nan, np.nan, np.nan]\n",
    "\n",
    "    summary_df = pd.DataFrame(data=summary_np,\n",
    "                                columns=['alpha', 'CL', 'CD', 'CDp', 'CM', 'Top_Xtr', 'Bot_Xtr'])\n",
    "\n",
    "    summary_df['name'] = done_list\n",
    "    name_col = summary_df.pop('name')\n",
    "    summary_df.insert(0, 'name', name_col)\n",
    "\n",
    "    summary_df.to_csv(f'summary/summary_AoA_{AoA}.csv', index=False)"
   ]
  },
  {
   "cell_type": "markdown",
   "id": "87d1aecf",
   "metadata": {},
   "source": [
    "Now we create a summary in a single csv file named `summary/summary_all.csv`"
   ]
  },
  {
   "cell_type": "code",
   "execution_count": 33,
   "id": "fa984a04",
   "metadata": {},
   "outputs": [],
   "source": [
    "# Importing csv files into DataFrames\n",
    "AoA_list = np.arange(-2.0, 10.5, 0.5)\n",
    "\n",
    "df_list = []\n",
    "\n",
    "for AoA in AoA_list:\n",
    "    df_list.append(pd.read_csv(f'summary/summary_AoA_{AoA}.csv'))"
   ]
  },
  {
   "cell_type": "code",
   "execution_count": 100,
   "id": "0b5a6942",
   "metadata": {},
   "outputs": [],
   "source": [
    "# Instantiate a python dictionary and lists\n",
    "dict_all = {}\n",
    "name_list = []\n",
    "indicator_list = []\n",
    "alpha_list = []\n",
    "value_list = []\n",
    "\n",
    "# Loop over for name\n",
    "for ind in range(len(df_list[0])):\n",
    "    name_list.append(df_list[0].name[ind])\n",
    "    name_list.append(df_list[0].name[ind])\n",
    "    name_list.append(df_list[0].name[ind])\n",
    "    name_list.append(df_list[0].name[ind])\n",
    "    name_list.append(df_list[0].name[ind])\n",
    "    name_list.append(df_list[0].name[ind])\n",
    "    name_list.append(df_list[0].name[ind])\n",
    "name_list = name_list * len(AoA_list)\n",
    "\n",
    "# Loop over for indicator\n",
    "for ind in range(len(df_list[0])):\n",
    "    indicator_list.append(df_list[0].columns[2])\n",
    "    indicator_list.append(df_list[0].columns[3])\n",
    "    indicator_list.append(df_list[0].columns[4])\n",
    "    indicator_list.append(df_list[0].columns[5])\n",
    "    indicator_list.append(df_list[0].columns[6])\n",
    "    indicator_list.append(df_list[0].columns[7])\n",
    "    indicator_list.append('L_by_D')\n",
    "indicator_list = indicator_list * len(AoA_list)\n",
    "\n",
    "# Loop over for alpha\n",
    "for AoA in AoA_list:\n",
    "    for ind in range(7 * len(df_list[0])):\n",
    "        alpha_list.append(AoA)\n",
    "\n",
    "# Loop over for value\n",
    "for _, df in enumerate(df_list):\n",
    "    for ind in range(len(df_list[0])):\n",
    "        for indicator in indicator_list[:7]:\n",
    "            if indicator == 'L_by_D':\n",
    "                value = df.iloc[ind]['CL']/df.iloc[ind]['CD']\n",
    "                value_list.append(value)\n",
    "            else:\n",
    "                value = df.iloc[ind][indicator]\n",
    "                value_list.append(value)"
   ]
  },
  {
   "cell_type": "code",
   "execution_count": 101,
   "id": "283014f1",
   "metadata": {},
   "outputs": [
    {
     "data": {
      "text/plain": [
       "(238000, 238000, 238000, 238000)"
      ]
     },
     "execution_count": 101,
     "metadata": {},
     "output_type": "execute_result"
    }
   ],
   "source": [
    "len(name_list), len(alpha_list), len(indicator_list), len(value_list)"
   ]
  },
  {
   "cell_type": "code",
   "execution_count": 104,
   "id": "ab047091",
   "metadata": {},
   "outputs": [],
   "source": [
    "# Create DataFrame and save to a csv file\n",
    "dict_all = {}\n",
    "dict_all['Airfoil Name'] = name_list\n",
    "dict_all['Indicator Name'] = indicator_list\n",
    "dict_all['Alpha'] = alpha_list\n",
    "dict_all['Value'] = value_list\n",
    "\n",
    "df_all = pd.DataFrame(dict_all)\n",
    "df_all.to_csv('summary/summary_all.csv', index=False)"
   ]
  },
  {
   "cell_type": "markdown",
   "id": "936a1c78",
   "metadata": {},
   "source": [
    "### Create dash plotly figure for exploration\n",
    "\n",
    "We explore the data at `AoA = [0.0, 1.0, 2.0, 3.0]` for successfully converged airfoils."
   ]
  },
  {
   "cell_type": "code",
   "execution_count": 14,
   "id": "420bef22",
   "metadata": {},
   "outputs": [
    {
     "name": "stdout",
     "output_type": "stream",
     "text": [
      "Total processed airfoils: 1278\n"
     ]
    }
   ],
   "source": [
    "# AoA = 0.0\n",
    "summary = pd.read_csv('summary/summary_AoA_0.0.csv')\n",
    "summary.dropna(inplace=True)\n",
    "print(f'Total processed airfoils: {len(summary)}')"
   ]
  },
  {
   "cell_type": "code",
   "execution_count": null,
   "id": "f6ee1b15",
   "metadata": {},
   "outputs": [],
   "source": [
    "# AoA = 1.0"
   ]
  },
  {
   "cell_type": "code",
   "execution_count": null,
   "id": "f45fcbf1",
   "metadata": {},
   "outputs": [],
   "source": [
    "# AoA = 2.0"
   ]
  },
  {
   "cell_type": "code",
   "execution_count": null,
   "id": "56cb3baf",
   "metadata": {},
   "outputs": [],
   "source": [
    "# AoA = 3.0"
   ]
  },
  {
   "cell_type": "code",
   "execution_count": null,
   "id": "c74f76aa",
   "metadata": {},
   "outputs": [],
   "source": [
    "fig = go.Figure()\n",
    "\n",
    "fig.add_trace(\n",
    "    go.Scatter(mode='markers',\n",
    "               x=-data['CL'][data['is_pareto']=='yes'],\n",
    "               y=data['CD'][data['is_pareto']=='yes'],\n",
    "               name='Non-dominated design',\n",
    "               marker=dict(\n",
    "                    color='red',\n",
    "                    size=10,\n",
    "                    symbol='circle'\n",
    "                ),\n",
    "               hoverinfo='none'\n",
    "        )\n",
    "    )"
   ]
  },
  {
   "cell_type": "code",
   "execution_count": null,
   "id": "c6313b5c",
   "metadata": {},
   "outputs": [],
   "source": []
  }
 ],
 "metadata": {
  "kernelspec": {
   "display_name": "Python 3 (ipykernel)",
   "language": "python",
   "name": "python3"
  },
  "language_info": {
   "codemirror_mode": {
    "name": "ipython",
    "version": 3
   },
   "file_extension": ".py",
   "mimetype": "text/x-python",
   "name": "python",
   "nbconvert_exporter": "python",
   "pygments_lexer": "ipython3",
   "version": "3.9.0"
  }
 },
 "nbformat": 4,
 "nbformat_minor": 5
}
